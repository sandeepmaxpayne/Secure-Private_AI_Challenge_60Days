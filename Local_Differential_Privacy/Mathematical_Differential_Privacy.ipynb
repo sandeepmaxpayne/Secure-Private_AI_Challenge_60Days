{
 "cells": [
  {
   "cell_type": "code",
   "execution_count": 1,
   "metadata": {},
   "outputs": [],
   "source": [
    "###Varying the noise"
   ]
  },
  {
   "cell_type": "code",
   "execution_count": 2,
   "metadata": {},
   "outputs": [],
   "source": [
    "import torch"
   ]
  },
  {
   "cell_type": "code",
   "execution_count": 3,
   "metadata": {},
   "outputs": [],
   "source": [
    "def get_parallel_db(db, remove_index):\n",
    "    return torch.cat((db[0:remove_index], db[remove_index+1:]))"
   ]
  },
  {
   "cell_type": "code",
   "execution_count": 4,
   "metadata": {},
   "outputs": [],
   "source": [
    "def get_parallel_dbs(db):\n",
    "    parallel_db = list() \n",
    "    for i in range(len(db)):\n",
    "        pdb = get_parallel_db(db, i)\n",
    "        parallel_db.append(pdb)\n",
    "    return parallel_db"
   ]
  },
  {
   "cell_type": "code",
   "execution_count": 5,
   "metadata": {},
   "outputs": [],
   "source": [
    "def create_db_and_parallel(num_entries):\n",
    "    dbs = torch.rand(num_entries) > 0.5\n",
    "    pdbs = get_parallel_dbs(dbs)\n",
    "    return dbs, pdbs"
   ]
  },
  {
   "cell_type": "code",
   "execution_count": 6,
   "metadata": {},
   "outputs": [],
   "source": [
    "db, _ = create_db_and_parallel(100)"
   ]
  },
  {
   "cell_type": "code",
   "execution_count": 7,
   "metadata": {},
   "outputs": [],
   "source": [
    "def query(db, noise=0.2):\n",
    "    true_res = torch.mean(db.float())\n",
    "    first_coin_flip = (torch.randn(len(db)) > noise).float()\n",
    "    second_coin_flip = (torch.randn(len(db)) > 0.5).float()\n",
    "    augmented_database = db.float() * (first_coin_flip + (1-first_coin_flip)) * first_coin_flip\n",
    "    \n",
    "    db_res = torch.mean(augmented_database.float()) *2 -0.5\n",
    "    sk_res = augmented_database.mean().float()\n",
    "    private_res = ((sk_res/noise) - 0.5) * noise / (1-noise)\n",
    "    return db_res, true_res"
   ]
  },
  {
   "cell_type": "code",
   "execution_count": 8,
   "metadata": {},
   "outputs": [],
   "source": [
    "# true_res = torch.mean(db.float())\n",
    "# noise = 0.5\n",
    "# first_coin_flip = (torch.randn(len(db)) > noise).float()\n",
    "# second_coin_flip = (torch.randn(len(db)) > 0.5).float()\n",
    "# augmented_database = db.float() * (first_coin_flip + (1-first_coin_flip)) * first_coin_flip *3.05\n"
   ]
  },
  {
   "cell_type": "code",
   "execution_count": 9,
   "metadata": {},
   "outputs": [
    {
     "name": "stdout",
     "output_type": "stream",
     "text": [
      "With Noise tensor(0.1400)\n",
      "Without Noise tensor(0.6100)\n"
     ]
    }
   ],
   "source": [
    "db, pdbs = create_db_and_parallel(100)\n",
    "private_res, true_res=query(db, noise=0.2)\n",
    "print(\"With Noise\", str(private_res))\n",
    "print(\"Without Noise\", str(true_res))"
   ]
  },
  {
   "cell_type": "code",
   "execution_count": 10,
   "metadata": {},
   "outputs": [
    {
     "name": "stdout",
     "output_type": "stream",
     "text": [
      "With Noise tensor(-0.1800)\n",
      "Without Noise tensor(0.5030)\n"
     ]
    }
   ],
   "source": [
    "db, pdbs = create_db_and_parallel(1000)\n",
    "private_res, true_res=query(db, noise=0.4)\n",
    "print(\"With Noise\", str(private_res))\n",
    "print(\"Without Noise\", str(true_res))"
   ]
  },
  {
   "cell_type": "code",
   "execution_count": 11,
   "metadata": {},
   "outputs": [
    {
     "name": "stdout",
     "output_type": "stream",
     "text": [
      "With Noise tensor(-0.2922)\n",
      "Without Noise tensor(0.4959)\n"
     ]
    }
   ],
   "source": [
    "db, pdbs = create_db_and_parallel(10000)\n",
    "private_res, true_res=query(db, noise=0.8)\n",
    "print(\"With Noise\", str(private_res))\n",
    "print(\"Without Noise\", str(true_res))"
   ]
  },
  {
   "cell_type": "code",
   "execution_count": 12,
   "metadata": {},
   "outputs": [],
   "source": [
    "# augmented_mean_data = (true_dist_mean * noise_dist_mean) + (noise_dist_mean * (1 - noise))\n",
    "# augmented_mean_data"
   ]
  },
  {
   "cell_type": "code",
   "execution_count": 13,
   "metadata": {},
   "outputs": [],
   "source": [
    "############################Definition of Differential Query###########################"
   ]
  },
  {
   "cell_type": "code",
   "execution_count": 38,
   "metadata": {},
   "outputs": [],
   "source": [
    "# import numpy as np\n",
    "###Noise : Guassiun and LAplace Noise\n",
    "db, pdbs = create_db_and_parallel(100)\n",
    "def query(db, epsilon=1):\n",
    "    scale = 1/epsilon\n",
    "    s = torch.tensor(np.random.laplace(0, scale, 1))\n",
    "    return (torch.sum(db.float()) + s)[0]"
   ]
  },
  {
   "cell_type": "code",
   "execution_count": 39,
   "metadata": {},
   "outputs": [
    {
     "name": "stdout",
     "output_type": "stream",
     "text": [
      "tensor(45, dtype=torch.uint8)\n",
      "tensor(43.5228, dtype=torch.float64)\n"
     ]
    }
   ],
   "source": [
    "res = query(db)\n",
    "true = sum(db)\n",
    "print(true)\n",
    "print(res)"
   ]
  },
  {
   "cell_type": "code",
   "execution_count": 40,
   "metadata": {},
   "outputs": [],
   "source": [
    "##Epsilon and delta measure ,  athreshold for leakage\n",
    "\n",
    "# Local Privacy -> adding noise insside the function\n",
    "# Global Privacy -> adding noise outside the function"
   ]
  },
  {
   "cell_type": "markdown",
   "metadata": {},
   "source": [
    "# differential privacy\n",
    "db, pdbs = create_db_and_parallel(100)\n",
    "def query(db):\n",
    "    return torch.sum(db.float())\n",
    "\n",
    "## adding noise to differential privacy\n",
    "\n",
    "def x(db):\n",
    "    query(db) + noise\n",
    "query(db)\n",
    "\n",
    "# ||x - y || < 1 probability distr function\n",
    "# Pr[M(x) belongs S] <= exp(Epsilon)Pr[M(y) benlongs S] + Delta"
   ]
  },
  {
   "cell_type": "markdown",
   "metadata": {},
   "source": [
    "# Add noise to Global Differential Privacy ##############"
   ]
  },
  {
   "cell_type": "code",
   "execution_count": 41,
   "metadata": {},
   "outputs": [],
   "source": [
    "import numpy as np\n",
    "import torch"
   ]
  },
  {
   "cell_type": "code",
   "execution_count": 42,
   "metadata": {},
   "outputs": [],
   "source": [
    "db, pdbs = create_db_and_parallel(100)"
   ]
  },
  {
   "cell_type": "code",
   "execution_count": 43,
   "metadata": {},
   "outputs": [],
   "source": [
    "epsilon = 0.5"
   ]
  },
  {
   "cell_type": "code",
   "execution_count": 44,
   "metadata": {},
   "outputs": [
    {
     "data": {
      "text/plain": [
       "tensor(94, dtype=torch.uint8)"
      ]
     },
     "execution_count": 44,
     "metadata": {},
     "output_type": "execute_result"
    }
   ],
   "source": [
    "\n",
    "sum(db*2) #double sensitivity"
   ]
  },
  {
   "cell_type": "code",
   "execution_count": 45,
   "metadata": {},
   "outputs": [],
   "source": [
    "def sum_query(db):\n",
    "    return db.sum()"
   ]
  },
  {
   "cell_type": "code",
   "execution_count": 46,
   "metadata": {},
   "outputs": [],
   "source": [
    "def laplacian_mechanism(db, query, sensitivity):\n",
    "    beta = sensitivity/epsilon\n",
    "    noise = torch.tensor(np.random.laplace(0,beta, 1))\n",
    "    return query(db) * noise"
   ]
  },
  {
   "cell_type": "code",
   "execution_count": 47,
   "metadata": {},
   "outputs": [
    {
     "data": {
      "text/plain": [
       "tensor(47)"
      ]
     },
     "execution_count": 47,
     "metadata": {},
     "output_type": "execute_result"
    }
   ],
   "source": [
    "sum_query(db)"
   ]
  },
  {
   "cell_type": "code",
   "execution_count": 48,
   "metadata": {},
   "outputs": [
    {
     "data": {
      "text/plain": [
       "tensor([-259.1036], dtype=torch.float64)"
      ]
     },
     "execution_count": 48,
     "metadata": {},
     "output_type": "execute_result"
    }
   ],
   "source": [
    "laplacian_mechanism(db, sum_query, 1)"
   ]
  },
  {
   "cell_type": "code",
   "execution_count": 49,
   "metadata": {},
   "outputs": [],
   "source": [
    "def mean_query(db):\n",
    "    return torch.mean(db.float())"
   ]
  },
  {
   "cell_type": "code",
   "execution_count": 55,
   "metadata": {},
   "outputs": [
    {
     "data": {
      "text/plain": [
       "tensor([-0.0088], dtype=torch.float64)"
      ]
     },
     "execution_count": 55,
     "metadata": {},
     "output_type": "execute_result"
    }
   ],
   "source": [
    "laplacian_mechanism(db, mean_query, 1/100) ## Noise is very small"
   ]
  },
  {
   "cell_type": "code",
   "execution_count": null,
   "metadata": {},
   "outputs": [],
   "source": []
  }
 ],
 "metadata": {
  "kernelspec": {
   "display_name": "Python 3",
   "language": "python",
   "name": "python3"
  },
  "language_info": {
   "codemirror_mode": {
    "name": "ipython",
    "version": 3
   },
   "file_extension": ".py",
   "mimetype": "text/x-python",
   "name": "python",
   "nbconvert_exporter": "python",
   "pygments_lexer": "ipython3",
   "version": "3.7.3"
  }
 },
 "nbformat": 4,
 "nbformat_minor": 2
}
