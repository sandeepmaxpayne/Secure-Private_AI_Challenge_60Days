{
 "cells": [
  {
   "cell_type": "code",
   "execution_count": 1,
   "metadata": {},
   "outputs": [],
   "source": [
    "###Varying the noise"
   ]
  },
  {
   "cell_type": "code",
   "execution_count": 4,
   "metadata": {},
   "outputs": [],
   "source": [
    "def query(db, noise=0.2):\n",
    "    true_res = torch.mean(db.float())\n",
    "    first_coin_flip = (torch.randn(len(db)) > noise).float()\n",
    "    second_coin_flip = (torch.randn(len(db)) > 0.5).float()\n",
    "    augmented_database = db.float() * (first_coin_flip + (1-first_coin_flip)) * first_coin_flip\n",
    "    \n",
    "    sk_res = augmented_database.mean().float()\n",
    "#     db_res = torch.mean(augmented_database.float()) *2 -0.5\n",
    "#     return db_res, true_result"
   ]
  },
  {
   "cell_type": "code",
   "execution_count": null,
   "metadata": {},
   "outputs": [],
   "source": []
  },
  {
   "cell_type": "code",
   "execution_count": 9,
   "metadata": {},
   "outputs": [],
   "source": [
    "true_dist_mean = 0.7 # 70% people said yes\n",
    "noise_dist_mean = 0.5 # 50/50 filp"
   ]
  },
  {
   "cell_type": "code",
   "execution_count": 10,
   "metadata": {},
   "outputs": [
    {
     "data": {
      "text/plain": [
       "0.175"
      ]
     },
     "execution_count": 10,
     "metadata": {},
     "output_type": "execute_result"
    }
   ],
   "source": [
    "augmented_mean_data = (true_dist_mean * noise_dist_mean)/  2\n",
    "augmented_mean_data"
   ]
  },
  {
   "cell_type": "code",
   "execution_count": null,
   "metadata": {},
   "outputs": [],
   "source": []
  }
 ],
 "metadata": {
  "kernelspec": {
   "display_name": "Python 3",
   "language": "python",
   "name": "python3"
  },
  "language_info": {
   "codemirror_mode": {
    "name": "ipython",
    "version": 3
   },
   "file_extension": ".py",
   "mimetype": "text/x-python",
   "name": "python",
   "nbconvert_exporter": "python",
   "pygments_lexer": "ipython3",
   "version": "3.7.3"
  }
 },
 "nbformat": 4,
 "nbformat_minor": 2
}
